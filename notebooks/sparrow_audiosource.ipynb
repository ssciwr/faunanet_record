{
 "cells": [
  {
   "cell_type": "code",
   "execution_count": 1,
   "metadata": {},
   "outputs": [],
   "source": [
    "import librosa\n",
    "from abc import ABC, abstractmethod\n",
    "from datetime import datetime\n",
    "import subprocess\n",
    "from pathlib import Path\n",
    "import warnings\n",
    "import numpy as np\n",
    "from shutil import which\n",
    "import pyaudio\n",
    "import yaml\n",
    "\n",
    "from iSparrowRecord import audio_recording as ard"
   ]
  },
  {
   "cell_type": "code",
   "execution_count": null,
   "metadata": {},
   "outputs": [],
   "source": [
    "p = pyaudio.PyAudio()"
   ]
  },
  {
   "cell_type": "code",
   "execution_count": null,
   "metadata": {},
   "outputs": [],
   "source": [
    "num_devices = p.get_device_count()\n",
    "for i in range(num_devices):\n",
    "    device_info = p.get_device_info_by_index(i)\n",
    "    print(f\"Device {i}: {device_info['name']}\")"
   ]
  },
  {
   "cell_type": "code",
   "execution_count": null,
   "metadata": {},
   "outputs": [],
   "source": [
    "class Condition:\n",
    "\n",
    "    def __init__(self):\n",
    "        self.x = 2\n",
    "\n",
    "    def __call__(self, _):\n",
    "\n",
    "        cond = self.x <= 0\n",
    "\n",
    "        self.x -= 1\n",
    "\n",
    "        return cond"
   ]
  },
  {
   "cell_type": "code",
   "execution_count": null,
   "metadata": {},
   "outputs": [],
   "source": [
    "    with open(Path.home() / Path(\"Development/iSparrowRecord/tests/test_configs\") / \"cfg_default.yml\", \"r\") as file:\n",
    "        default_cfg = yaml.safe_load(file)\n",
    "\n",
    "    default_cfg[\"Data\"][\"Recording\"]\n"
   ]
  },
  {
   "cell_type": "code",
   "execution_count": null,
   "metadata": {},
   "outputs": [],
   "source": [
    "recorder = ard.Recorder.from_cfg(default_cfg[\"Data\"][\"Recording\"])"
   ]
  },
  {
   "cell_type": "code",
   "execution_count": 37,
   "metadata": {},
   "outputs": [],
   "source": [
    "def merge_dict_recursive(base, augment):\n",
    "    # basic assumption: augment is a sub-tree of base with unknown entry point.\n",
    "    if isinstance(base, dict) and isinstance(augment, dict):\n",
    "\n",
    "        for kb, vb in base.items():\n",
    "            if kb in augment:\n",
    "                # overlapping element branch found\n",
    "                if isinstance(vb, dict) and isinstance(augment[kb], dict):\n",
    "                    # follow branch if possible\n",
    "                    merge_dict(vb, augment[kb])\n",
    "                else:\n",
    "                    # assign if not\n",
    "                    base[kb] = augment[kb]\n",
    "            else:\n",
    "                merge_dict(vb, augment)  # find entrypoint\n",
    "    else:\n",
    "        pass  # not found and no dictionaries - pass"
   ]
  },
  {
   "cell_type": "code",
   "execution_count": 65,
   "metadata": {},
   "outputs": [],
   "source": [
    "base = {\n",
    "    \"a\": {\"x\": 3, \"y\": {\"l\": 2, \"k\": \"hello\"}}, \"b\": {\"p\": \"c\", \"d\": {\"v\": 5, \"w\": 6}}\n",
    "}"
   ]
  },
  {
   "cell_type": "code",
   "execution_count": 66,
   "metadata": {},
   "outputs": [],
   "source": [
    "update = {\n",
    "    \"y\": {\"l\": 8},\n",
    "    \"b\": {\n",
    "        \"d\": {\n",
    "            \"w\": -5,\n",
    "        }\n",
    "    },\n",
    "}"
   ]
  },
  {
   "cell_type": "code",
   "execution_count": 71,
   "metadata": {},
   "outputs": [],
   "source": [
    "merge_dict_recursive(base, update)"
   ]
  },
  {
   "cell_type": "code",
   "execution_count": 72,
   "metadata": {},
   "outputs": [
    {
     "data": {
      "text/plain": [
       "{'a': {'x': 3, 'y': {'l': 8, 'k': 'hello'}},\n",
       " 'b': {'p': 'c', 'd': {'v': 5, 'w': -5}}}"
      ]
     },
     "execution_count": 72,
     "metadata": {},
     "output_type": "execute_result"
    }
   ],
   "source": [
    "base"
   ]
  },
  {
   "cell_type": "code",
   "execution_count": 61,
   "metadata": {},
   "outputs": [
    {
     "data": {
      "text/plain": [
       "True"
      ]
     },
     "execution_count": 61,
     "metadata": {},
     "output_type": "execute_result"
    }
   ],
   "source": [
    "base['a']['y']['l'] == update['y']['l']"
   ]
  },
  {
   "cell_type": "code",
   "execution_count": 62,
   "metadata": {},
   "outputs": [
    {
     "data": {
      "text/plain": [
       "True"
      ]
     },
     "execution_count": 62,
     "metadata": {},
     "output_type": "execute_result"
    }
   ],
   "source": [
    "base['b']['d']['w'] == update['b']['d']['w']"
   ]
  },
  {
   "cell_type": "code",
   "execution_count": 69,
   "metadata": {},
   "outputs": [
    {
     "data": {
      "text/plain": [
       "{'a': {'x': 3, 'y': {'l': 2, 'k': 'hello'}},\n",
       " 'b': {'d': {'w': -5}},\n",
       " 'y': {'l': 8}}"
      ]
     },
     "execution_count": 69,
     "metadata": {},
     "output_type": "execute_result"
    }
   ],
   "source": [
    "{**base, **update}"
   ]
  },
  {
   "cell_type": "code",
   "execution_count": null,
   "metadata": {},
   "outputs": [],
   "source": []
  }
 ],
 "metadata": {
  "kernelspec": {
   "display_name": "sparrow",
   "language": "python",
   "name": "python3"
  },
  "language_info": {
   "codemirror_mode": {
    "name": "ipython",
    "version": 3
   },
   "file_extension": ".py",
   "mimetype": "text/x-python",
   "name": "python",
   "nbconvert_exporter": "python",
   "pygments_lexer": "ipython3",
   "version": "3.11.8"
  }
 },
 "nbformat": 4,
 "nbformat_minor": 2
}
